{
 "cells": [
  {
   "cell_type": "code",
   "execution_count": null,
   "metadata": {},
   "outputs": [],
   "source": [
    "import pandas as pd\n",
    "import seaborn as sns\n",
    "import matplotlib.pyplot as plt\n",
    "import numpy as np\n",
    "file_path = \"D:\\DAI-101\\world_population.csv\"\n",
    "df = pd.read_csv(file_path)"
   ]
  },
  {
   "cell_type": "code",
   "execution_count": null,
   "metadata": {},
   "outputs": [],
   "source": [
    "# Univariate Analysis\n",
    "# Categorical: Continent Analysis\n",
    "\n",
    "print(\"Mode of Continent:\", df['Continent'].mode()[0])\n",
    "print(df['Continent'].value_counts(normalize=True) * 100)\n",
    "\n",
    "plt.figure(figsize=(10,5))\n",
    "sns.countplot(y='Continent', data=df, order=df['Continent'].value_counts().index)\n",
    "plt.title(\"Continent Distribution\")\n",
    "plt.show()\n",
    "\n"
   ]
  },
  {
   "cell_type": "code",
   "execution_count": null,
   "metadata": {},
   "outputs": [],
   "source": [
    "# Numerical: Population Analysis\n",
    "print(\"2022 Population Summary:\")\n",
    "print(df['2022 Population'].describe())\n",
    "\n",
    "plt.figure(figsize=(10,5))\n",
    "sns.histplot(df['2022 Population'], bins=20, kde=True)\n",
    "plt.title(\"2022 Population Distribution\")\n",
    "plt.show()\n",
    "\n"
   ]
  },
  {
   "cell_type": "code",
   "execution_count": null,
   "metadata": {},
   "outputs": [],
   "source": [
    "# Five-Number Summary & Boxplot\n",
    "Q1 = df['2022 Population'].quantile(0.25)\n",
    "Q3 = df['2022 Population'].quantile(0.75)\n",
    "IQR = Q3 - Q1\n",
    "print(\"Five-Number Summary:\", df['2022 Population'].min(), Q1, df['2022 Population'].median(), Q3, df['2022 Population'].max())\n",
    "\n",
    "plt.figure(figsize=(10,5))\n",
    "sns.boxplot(y='2022 Population', data=df)\n",
    "plt.title(\"Boxplot of 2022 Population\")\n",
    "plt.show()\n"
   ]
  },
  {
   "cell_type": "code",
   "execution_count": null,
   "metadata": {},
   "outputs": [],
   "source": [
    "# Bivariate Analysis\n",
    "# Numerical & Numerical: Scatter Plot and Correlation\n",
    "plt.figure(figsize=(10,5))\n",
    "sns.scatterplot(x=df['Area (km²)'], y=df['2022 Population'])\n",
    "plt.title(\"Scatter Plot: Area vs Population\")\n",
    "plt.xlabel(\"Area (km²)\")\n",
    "plt.ylabel(\"2022 Population\")\n",
    "plt.show()\n",
    "\n",
    "correlation = df[['Area (km²)', '2022 Population']].corr()\n",
    "print(\"Correlation Matrix:\\n\", correlation)\n",
    "\n"
   ]
  },
  {
   "cell_type": "code",
   "execution_count": null,
   "metadata": {},
   "outputs": [],
   "source": [
    "# Categorical & Categorical: Stacked Bar Chart and Chi-square Test\n",
    "contingency_table = pd.crosstab(df['Continent'], df['Growth Rate'] > 1.0)\n",
    "contingency_table.plot(kind='bar', stacked=True, figsize=(10,5))\n",
    "plt.title(\"Stacked Bar Chart: Continent vs Growth Rate > 1.0\")\n",
    "plt.xlabel(\"Continent\")\n",
    "plt.ylabel(\"Count\")\n",
    "plt.show()\n",
    "\n"
   ]
  },
  {
   "cell_type": "code",
   "execution_count": null,
   "metadata": {},
   "outputs": [],
   "source": [
    "# Chi-square Test Calculation\n",
    "observed = contingency_table.values\n",
    "expected = np.outer(contingency_table.sum(axis=1), contingency_table.sum(axis=0)) / contingency_table.sum().sum()\n",
    "chi2_stat = ((observed - expected) ** 2 / expected).sum()\n",
    "print(\"Chi-square Test Statistic:\", chi2_stat)\n",
    "\n"
   ]
  },
  {
   "cell_type": "code",
   "execution_count": null,
   "metadata": {},
   "outputs": [],
   "source": [
    "# Categorical & Numerical: Boxplot and ANOVA\n",
    "plt.figure(figsize=(10,5))\n",
    "sns.boxplot(x='Continent', y='2022 Population', data=df)\n",
    "plt.title(\"Boxplot: Population by Continent\")\n",
    "plt.show()\n",
    "\n"
   ]
  },
  {
   "cell_type": "code",
   "execution_count": null,
   "metadata": {},
   "outputs": [],
   "source": [
    "# ANOVA Calculation\n",
    "group_means = df.groupby('Continent')['2022 Population'].mean()\n",
    "overall_mean = df['2022 Population'].mean()\n",
    "between_group_var = sum(df.groupby('Continent').size() * (group_means - overall_mean) ** 2) / (len(group_means) - 1)\n",
    "within_group_var = sum((df['2022 Population'] - df.groupby('Continent')['2022 Population'].transform('mean')) ** 2) / (len(df) - len(group_means))\n",
    "F_statistic = between_group_var / within_group_var\n",
    "print(\"ANOVA Test Statistic (F):\", F_statistic)\n",
    "\n"
   ]
  },
  {
   "cell_type": "code",
   "execution_count": null,
   "metadata": {},
   "outputs": [],
   "source": [
    "# Categorical & Numerical: Line Chart with Error Bars\n",
    "plt.figure(figsize=(10,5))\n",
    "mean_pop = df.groupby('Continent')['2022 Population'].mean()\n",
    "std_pop = df.groupby('Continent')['2022 Population'].std()\n",
    "plt.errorbar(mean_pop.index, mean_pop.values, yerr=std_pop.values, fmt='o-', capsize=5)\n",
    "plt.title(\"Line Chart with Error Bars: Population by Continent\")\n",
    "plt.xlabel(\"Continent\")\n",
    "plt.ylabel(\"Average Population\")\n",
    "plt.show()\n",
    "\n"
   ]
  },
  {
   "cell_type": "code",
   "execution_count": null,
   "metadata": {},
   "outputs": [],
   "source": [
    "# Categorical & Numerical: t-test for Population of Two Continents\n",
    "continent1 = \"Asia\"\n",
    "continent2 = \"Europe\"\n",
    "pop1 = df[df['Continent'] == continent1]['2022 Population']\n",
    "pop2 = df[df['Continent'] == continent2]['2022 Population']\n",
    "mean_diff = abs(pop1.mean() - pop2.mean())\n",
    "std_diff = np.sqrt((pop1.var() / len(pop1)) + (pop2.var() / len(pop2)))\n",
    "t_stat = mean_diff / std_diff\n",
    "print(f\"T-test Statistic for {continent1} vs {continent2}: {t_stat}\")"
   ]
  }
 ],
 "metadata": {
  "kernelspec": {
   "display_name": "Python 3",
   "language": "python",
   "name": "python3"
  },
  "language_info": {
   "codemirror_mode": {
    "name": "ipython",
    "version": 3
   },
   "file_extension": ".py",
   "mimetype": "text/x-python",
   "name": "python",
   "nbconvert_exporter": "python",
   "pygments_lexer": "ipython3",
   "version": "3.12.2"
  }
 },
 "nbformat": 4,
 "nbformat_minor": 2
}
